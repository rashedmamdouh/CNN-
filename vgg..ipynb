{
  "cells": [
    {
      "cell_type": "code",
      "execution_count": null,
      "id": "0aa563cb",
      "metadata": {
        "id": "0aa563cb"
      },
      "outputs": [],
      "source": [
        "import tensorflow as tf\n",
        "from tensorflow.keras import layers\n",
        "from tensorflow.keras.models import Sequential\n",
        "from tensorflow.keras.utils import to_categorical\n",
        "from tensorflow.keras.optimizers import Adam\n",
        "from tensorflow.keras.models import Model\n",
        "from tensorflow.keras.layers import Input, Conv2D, MaxPooling2D, AveragePooling2D, Flatten, GlobalAveragePooling2D, Dense, Dropout, concatenate\n",
        "from tensorflow.keras import regularizers\n",
        "from google.colab import drive\n",
        "import matplotlib.pyplot as plt\n"
      ]
    },
    {
      "cell_type": "code",
      "execution_count": null,
      "id": "dbf0f7f6",
      "metadata": {
        "id": "dbf0f7f6",
        "colab": {
          "base_uri": "https://localhost:8080/"
        },
        "outputId": "46412459-b790-4fc3-8102-f1dd8a9f8433"
      },
      "outputs": [
        {
          "output_type": "stream",
          "name": "stdout",
          "text": [
            "Mounted at /content/drive/\n"
          ]
        }
      ],
      "source": [
        "drive.mount(\"/content/drive/\")"
      ]
    },
    {
      "cell_type": "code",
      "source": [
        "!gdown https://drive.google.com/file/d/1f6jT_MSh9D5srF1-gLD-AKuCnDs-EzwF/view?usp=share_link"
      ],
      "metadata": {
        "colab": {
          "base_uri": "https://localhost:8080/"
        },
        "id": "X1AfeevytmGM",
        "outputId": "029c4c8d-c9a5-4df8-d92b-9bfec93be87a"
      },
      "id": "X1AfeevytmGM",
      "execution_count": null,
      "outputs": [
        {
          "output_type": "stream",
          "name": "stdout",
          "text": [
            "/usr/local/lib/python3.7/dist-packages/gdown/parse_url.py:39: UserWarning: You specified a Google Drive link that is not the correct link to download a file. You might want to try `--fuzzy` option or the following url: https://drive.google.com/uc?id=1f6jT_MSh9D5srF1-gLD-AKuCnDs-EzwF\n",
            "  url=\"https://drive.google.com/uc?id={}\".format(file_id)\n",
            "Downloading...\n",
            "From: https://drive.google.com/file/d/1f6jT_MSh9D5srF1-gLD-AKuCnDs-EzwF/view?usp=share_link\n",
            "To: /content/view?usp=share_link\n",
            "71.5kB [00:00, 11.5MB/s]\n"
          ]
        }
      ]
    },
    {
      "cell_type": "code",
      "source": [
        "!unzip \"/content/drive/MyDrive/DL_Assignment_1_Data.zip\" -d \"/content/drive/MyDrive/\""
      ],
      "metadata": {
        "id": "Cn9Lfx0pwTdC"
      },
      "id": "Cn9Lfx0pwTdC",
      "execution_count": null,
      "outputs": []
    },
    {
      "cell_type": "code",
      "source": [
        "train_path=\"/content/drive/MyDrive/Data/train\"\n",
        "test_path=\"/content/drive/MyDrive/DL/Data/test\""
      ],
      "metadata": {
        "id": "Ur0mXdnJsZUL"
      },
      "id": "Ur0mXdnJsZUL",
      "execution_count": null,
      "outputs": []
    },
    {
      "cell_type": "code",
      "execution_count": null,
      "id": "fda8b70e",
      "metadata": {
        "id": "fda8b70e"
      },
      "outputs": [],
      "source": [
        "#add data augmentaion to the training data since the data is too small\n",
        "trainset=tf.keras.preprocessing.image.ImageDataGenerator(\n",
        "    rescale=1/255.,\n",
        "     zoom_range=0.2,\n",
        "     vertical_flip=True,\n",
        "     brightness_range=(0.2, 0.8),\n",
        "     validation_split=0.1\n",
        ")"
      ]
    },
    {
      "cell_type": "code",
      "execution_count": null,
      "id": "51127806",
      "metadata": {
        "id": "51127806",
        "colab": {
          "base_uri": "https://localhost:8080/"
        },
        "outputId": "19c4cd99-e050-48a2-b1d9-ffa7d5349bc4"
      },
      "outputs": [
        {
          "output_type": "stream",
          "name": "stdout",
          "text": [
            "Found 11524 images belonging to 104 classes.\n"
          ]
        }
      ],
      "source": [
        "#get the data from the training directory and determine the pictures characteristics \n",
        "#set the training percentage to be 90% of the data \n",
        "train=trainset.flow_from_directory(\n",
        "    directory=train_path,\n",
        "    target_size=(192, 192),\n",
        "    color_mode='rgb',\n",
        "    class_mode='categorical',\n",
        "    batch_size=32,\n",
        "    shuffle=True,\n",
        "    seed=42,\n",
        "    subset=\"training\",\n",
        ")"
      ]
    },
    {
      "cell_type": "code",
      "execution_count": null,
      "id": "3a4eeeb4",
      "metadata": {
        "id": "3a4eeeb4",
        "colab": {
          "base_uri": "https://localhost:8080/"
        },
        "outputId": "ee8ee454-ece5-45b5-8c17-3d2fbb98d6b5"
      },
      "outputs": [
        {
          "output_type": "stream",
          "name": "stdout",
          "text": [
            "Found 1229 images belonging to 104 classes.\n"
          ]
        }
      ],
      "source": [
        "#get the data from the training directory and determine the pictures characteristics \n",
        "#set the validation data percentage to be 10% of the data \n",
        "valid=trainset.flow_from_directory(\n",
        "    directory=train_path,\n",
        "    target_size=(192, 192),\n",
        "    color_mode='rgb',\n",
        "    # classes=train_labels,\n",
        "    class_mode='categorical',\n",
        "    batch_size=32,\n",
        "    shuffle=True,\n",
        "    seed=42,\n",
        "    subset=\"validation\"\n",
        "\n",
        ")"
      ]
    },
    {
      "cell_type": "markdown",
      "source": [
        "# **VGG Model**"
      ],
      "metadata": {
        "id": "VzbZxMmro8BO"
      },
      "id": "VzbZxMmro8BO"
    },
    {
      "cell_type": "code",
      "execution_count": null,
      "id": "eedc1072",
      "metadata": {
        "id": "eedc1072"
      },
      "outputs": [],
      "source": [
        "#vgg\n",
        "vgg = Sequential()\n",
        "vgg.add(Conv2D(input_shape = (192, 192, 3), filters = 64, kernel_size = (3,3), padding = \"same\", activation = \"relu\"))\n",
        "\n",
        "vgg.add(Conv2D(filters = 64, kernel_size = (3,3), padding = \"same\", activation = \"relu\"))\n",
        "vgg.add(MaxPooling2D(pool_size = (2,2), strides = (2,2)))\n",
        "\n",
        "vgg.add(Conv2D(filters = 128, kernel_size = (3,3), padding = \"same\", activation = \"relu\"))\n",
        "vgg.add(Conv2D(filters = 128, kernel_size = (3,3), padding = \"same\", activation = \"relu\"))\n",
        "vgg.add(MaxPooling2D(pool_size = (2,2), strides = (2,2)))\n",
        "\n",
        "vgg.add(Conv2D(filters = 256, kernel_size = (3,3), padding = \"same\", activation = \"relu\"))\n",
        "vgg.add(Conv2D(filters = 256, kernel_size = (3,3), padding = \"same\", activation = \"relu\"))\n",
        "vgg.add(Conv2D(filters = 256, kernel_size = (3,3), padding = \"same\", activation = \"relu\"))\n",
        "vgg.add(MaxPooling2D(pool_size = (2,2), strides = (2,2)))\n",
        "\n",
        "vgg.add(Conv2D(filters = 512, kernel_size = (3,3), padding = \"same\", activation = \"relu\"))\n",
        "vgg.add(Conv2D(filters = 512, kernel_size = (3,3), padding = \"same\", activation = \"relu\"))\n",
        "vgg.add(Conv2D(filters = 512, kernel_size = (3,3), padding = \"same\", activation = \"relu\"))\n",
        "vgg.add(MaxPooling2D(pool_size = (2,2), strides = (2,2)))\n",
        "\n",
        "vgg.add(Conv2D(filters = 512, kernel_size = (3,3), padding = \"same\", activation = \"relu\"))\n",
        "vgg.add(Conv2D(filters = 512, kernel_size = (3,3), padding = \"same\", activation = \"relu\"))\n",
        "vgg.add(Conv2D(filters = 512, kernel_size = (3,3), padding = \"same\", activation = \"relu\"))\n",
        "vgg.add(MaxPooling2D(pool_size = (2,2), strides = (2,2)))\n",
        "\n",
        "vgg.add(Flatten())\n",
        "vgg.add(Dense(units = 4096, activation = \"relu\"))\n",
        "vgg.add(Dense(units = 4096, activation = \"relu\"))\n",
        "vgg.add(Dense(units = 104, activation = \"softmax\"))"
      ]
    },
    {
      "cell_type": "code",
      "execution_count": null,
      "id": "2e843c0b",
      "metadata": {
        "id": "2e843c0b"
      },
      "outputs": [],
      "source": [
        "vgg.compile(optimizer=Adam(learning_rate=0.0001),loss=tf.keras.losses.CategoricalCrossentropy(),metrics=\"accuracy\")"
      ]
    },
    {
      "cell_type": "code",
      "source": [
        "vgg.load_weights(\"/content/drive/MyDrive/DL/vgg_param/\")"
      ],
      "metadata": {
        "colab": {
          "base_uri": "https://localhost:8080/"
        },
        "id": "w3JSnikoevku",
        "outputId": "391fa19c-ff31-42d4-c28e-97c66df847b6"
      },
      "id": "w3JSnikoevku",
      "execution_count": null,
      "outputs": [
        {
          "output_type": "execute_result",
          "data": {
            "text/plain": [
              "<tensorflow.python.training.tracking.util.CheckpointLoadStatus at 0x7f9a546cca90>"
            ]
          },
          "metadata": {},
          "execution_count": 11
        }
      ]
    },
    {
      "cell_type": "code",
      "execution_count": null,
      "id": "22fbbde4",
      "metadata": {
        "colab": {
          "base_uri": "https://localhost:8080/"
        },
        "id": "22fbbde4",
        "outputId": "e590e3c8-27dd-44ab-9044-83abce3e3c23"
      },
      "outputs": [
        {
          "output_type": "stream",
          "name": "stdout",
          "text": [
            "Epoch 1/5\n",
            "361/361 [==============================] - 194s 536ms/step - loss: 0.1632 - accuracy: 0.9518 - val_loss: 3.4927 - val_accuracy: 0.4736\n",
            "Epoch 2/5\n",
            "361/361 [==============================] - 195s 540ms/step - loss: 0.1603 - accuracy: 0.9537 - val_loss: 3.6349 - val_accuracy: 0.4540\n",
            "Epoch 3/5\n",
            "361/361 [==============================] - 193s 535ms/step - loss: 0.1575 - accuracy: 0.9538 - val_loss: 3.5846 - val_accuracy: 0.4793\n",
            "Epoch 4/5\n",
            "361/361 [==============================] - 191s 529ms/step - loss: 0.1375 - accuracy: 0.9586 - val_loss: 3.4197 - val_accuracy: 0.4638\n",
            "Epoch 5/5\n",
            "361/361 [==============================] - 188s 521ms/step - loss: 0.1312 - accuracy: 0.9613 - val_loss: 3.5073 - val_accuracy: 0.4565\n"
          ]
        }
      ],
      "source": [
        "vgg_hist = vgg.fit(train,epochs=5,batch_size=32,validation_data=valid)"
      ]
    },
    {
      "cell_type": "code",
      "source": [
        "plt.plot(vgg_hist.history['accuracy'], label='accuracy')\n",
        "plt.plot(vgg_hist.history['val_accuracy'], label = 'val_accuracy')\n",
        "plt.xlabel('Epoch')\n",
        "plt.ylabel('accuracy')\n",
        "plt.legend(loc='lower right');"
      ],
      "metadata": {
        "id": "PdkV4KMHugX5",
        "colab": {
          "base_uri": "https://localhost:8080/",
          "height": 279
        },
        "outputId": "2d001b66-f2eb-45f3-b61d-6cc4bb5041fb"
      },
      "id": "PdkV4KMHugX5",
      "execution_count": null,
      "outputs": [
        {
          "output_type": "display_data",
          "data": {
            "text/plain": [
              "<Figure size 432x288 with 1 Axes>"
            ],
            "image/png": "[encoded data removed]"
          },
          "metadata": {
            "needs_background": "light"
          }
        }
      ]
    },
    {
      "cell_type": "code",
      "source": [
        "vgg.save_weights('/content/drive/MyDrive/DL/vgg_param/')\n"
      ],
      "metadata": {
        "id": "Rw6RmTGpdZ8e"
      },
      "id": "Rw6RmTGpdZ8e",
      "execution_count": null,
      "outputs": []
    },
    {
      "cell_type": "code",
      "source": [
        "vgg.save(\"/content/drive/MyDrive/DL/vgg_model/\")"
      ],
      "metadata": {
        "id": "GIZxJrqefnp5"
      },
      "id": "GIZxJrqefnp5",
      "execution_count": null,
      "outputs": []
    }
  ],
  "metadata": {
    "kernelspec": {
      "display_name": "Python 3",
      "name": "python3"
    },
    "language_info": {
      "name": "python"
    },
    "varInspector": {
      "cols": {
        "lenName": 16,
        "lenType": 16,
        "lenVar": 40
      },
      "kernels_config": {
        "python": {
          "delete_cmd_postfix": "",
          "delete_cmd_prefix": "del ",
          "library": "var_list.py",
          "varRefreshCmd": "print(var_dic_list())"
        },
        "r": {
          "delete_cmd_postfix": ") ",
          "delete_cmd_prefix": "rm(",
          "library": "var_list.r",
          "varRefreshCmd": "cat(var_dic_list()) "
        }
      },
      "types_to_exclude": [
        "module",
        "function",
        "builtin_function_or_method",
        "instance",
        "_Feature"
      ],
      "window_display": false
    },
    "colab": {
      "provenance": []
    },
    "gpuClass": "standard",
    "accelerator": "GPU"
  },
  "nbformat": 4,
  "nbformat_minor": 5
}